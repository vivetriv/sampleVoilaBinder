{
 "cells": [
  {
   "cell_type": "markdown",
   "metadata": {},
   "source": [
    "# Bear Classifier"
   ]
  },
  {
   "cell_type": "markdown",
   "metadata": {},
   "source": [
    "Below app tells you if the image you have uploaded to it is a teddy bear, polar bear, grizzly bear, or black bear! Check it out!"
   ]
  },
  {
   "cell_type": "code",
   "execution_count": null,
   "metadata": {},
   "outputs": [],
   "source": [
    "from fastai.vision.all import *\n",
    "from fastai.vision.widgets import *"
   ]
  },
  {
   "cell_type": "code",
   "execution_count": null,
   "metadata": {},
   "outputs": [],
   "source": [
    "btn_upload = widgets.FileUpload() # File Upload button\n",
    "out_pl = widgets.Output()\n",
    "btn_clsfy = widgets.Button(description='Classify!')\n",
    "lbl_pred = widgets.Label()\n",
    "learn_inf = load_learner(Path()/'bear_export.pkl', cpu=True)\n",
    "\n",
    "def classify(change): # I think change is a function of some sort?\n",
    "    img = PILImage.create(btn_upload.data[-1]) # Process input from upload widget\n",
    "    out_pl.clear_output() \n",
    "    with out_pl: display(img.to_thumb(128)) # Dislay input in output widget \n",
    "    pred,pred_idx,probs = learn_inf.predict(img)\n",
    "    lbl_pred.value = f'Prediction: {pred}; Probability: {probs[pred_idx]:.04f}' # Inference of input to prediction displayer\n",
    "    \n",
    "btn_clsfy.on_click(classify)\n",
    "\n",
    "display(VBox([widgets.Label('Select your bear!'), btn_upload, btn_clsfy, out_pl, lbl_pred]))"
   ]
  }
 ],
 "metadata": {
  "kernelspec": {
   "display_name": "Python 3",
   "language": "python",
   "name": "python3"
  },
  "language_info": {
   "codemirror_mode": {
    "name": "ipython",
    "version": 3
   },
   "file_extension": ".py",
   "mimetype": "text/x-python",
   "name": "python",
   "nbconvert_exporter": "python",
   "pygments_lexer": "ipython3",
   "version": "3.7.4"
  }
 },
 "nbformat": 4,
 "nbformat_minor": 4
}
