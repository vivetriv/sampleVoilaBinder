{
 "cells": [
  {
   "cell_type": "code",
   "execution_count": null,
   "metadata": {},
   "outputs": [],
   "source": [
    "from fastai.vision.all import *\n",
    "from fastai.vision.widgets import *"
   ]
  },
  {
   "cell_type": "code",
   "execution_count": 11,
   "metadata": {},
   "outputs": [
    {
     "data": {
      "application/vnd.jupyter.widget-view+json": {
       "model_id": "4d7c2271f81742f59c44ef3c4ae0ec2c",
       "version_major": 2,
       "version_minor": 0
      },
      "text/plain": [
       "VBox(children=(Label(value='Select your bear!'), FileUpload(value={}, description='Upload'), Button(descriptio…"
      ]
     },
     "metadata": {},
     "output_type": "display_data"
    },
    {
     "data": {
      "text/html": [],
      "text/plain": [
       "<IPython.core.display.HTML object>"
      ]
     },
     "metadata": {},
     "output_type": "display_data"
    }
   ],
   "source": [
    "btn_upload = widgets.FileUpload() # File Upload button\n",
    "out_pl = widgets.Output()\n",
    "btn_clsfy = widgets.Button(description='Classify!')\n",
    "lbl_pred = widgets.Label()\n",
    "learn_inf = load_learner(Path()/'bear_export.pkl')\n",
    "\n",
    "def classify(change): # I think change is a function of some sort?\n",
    "    img = PILImage.create(btn_upload.data[-1]) # Process input from upload widget\n",
    "    out_pl.clear_output() \n",
    "    with out_pl: display(img.to_thumb(128)) # Dislay input in output widget \n",
    "    pred,pred_idx,probs = learn_inf.predict(img)\n",
    "    lbl_pred.value = f'Prediction: {pred}; Probability: {probs[pred_idx]:.04f}' # Inference of input to prediction displayer\n",
    "    \n",
    "btn_clsfy.on_click(classify)\n",
    "\n",
    "VBox([widgets.Label('Select your bear!'), btn_upload, btn_clsfy, out_pl, lbl_pred])"
   ]
  }
 ],
 "metadata": {
  "kernelspec": {
   "display_name": "Python 3",
   "language": "python",
   "name": "python3"
  },
  "language_info": {
   "codemirror_mode": {
    "name": "ipython",
    "version": 3
   },
   "file_extension": ".py",
   "mimetype": "text/x-python",
   "name": "python",
   "nbconvert_exporter": "python",
   "pygments_lexer": "ipython3",
   "version": "3.7.4"
  }
 },
 "nbformat": 4,
 "nbformat_minor": 4
}
